{
 "cells": [
  {
   "cell_type": "markdown",
   "metadata": {},
   "source": [
    "# Intro to SQL for Data Science"
   ]
  },
  {
   "cell_type": "markdown",
   "metadata": {},
   "source": [
    "## Chap 1 Selecting columns "
   ]
  },
  {
   "cell_type": "markdown",
   "metadata": {},
   "source": [
    "-- Try running me!\n",
    "SELECT 'DataCamp <3 SQL'\n",
    "AS result;\n"
   ]
  },
  {
   "cell_type": "markdown",
   "metadata": {},
   "source": [
    "SELECT 'SQL is cool!'\n",
    "AS result;\n"
   ]
  },
  {
   "cell_type": "markdown",
   "metadata": {},
   "source": [
    "SELECT title FROM films;\n",
    "SELECT release_year FROM films;\n",
    "SELECT name FROM people;"
   ]
  },
  {
   "cell_type": "markdown",
   "metadata": {},
   "source": [
    "SELECT title FROM films;\n",
    "SELECT title,release_year FROM films;\n",
    "SELECT title,release_year,country FROM films;\n",
    "SELECT * FROM films;"
   ]
  },
  {
   "cell_type": "markdown",
   "metadata": {},
   "source": [
    "SELECT DISTINCT country FROM films;\n",
    "SELECT DISTINCT certification FROM films;\n",
    "SELECT DISTINCT role FROM roles;"
   ]
  },
  {
   "cell_type": "markdown",
   "metadata": {},
   "source": [
    "-- You can test out queries here!\n",
    "SELECT COUNT(id) FROM reviews;"
   ]
  },
  {
   "cell_type": "markdown",
   "metadata": {},
   "source": [
    "SELECT COUNT(id) FROM people;\n",
    "SELECT COUNT(birthdate) FROM people;\n",
    "SELECT COUNT(DISTINCT birthdate) FROM people;\n",
    "SELECT COUNT(DISTINCT language) FROM films;\n",
    "SELECT COUNT(DISTINCT country) FROM films;"
   ]
  },
  {
   "cell_type": "markdown",
   "metadata": {},
   "source": [
    "SELECT * FROM films WHERE release_year=2016;\n",
    "SELECT COUNT(id) FROM films WHERE release_year<2000;\n",
    "SELECT release_year,title FROM films WHERE release_year>2000"
   ]
  },
  {
   "cell_type": "markdown",
   "metadata": {},
   "source": [
    "SELECT * FROM films WHERE language='French';\n",
    "SELECT name,birthdate FROM people WHERE birthdate ='1974-11-11';\n",
    "SELECT COUNT(id) FROM films WHERE language='Hindi';\n",
    "SELECT * FROM films WHERE certification='R';"
   ]
  },
  {
   "cell_type": "markdown",
   "metadata": {},
   "source": [
    "SELECT title,release_year \n",
    "FROM films \n",
    "WHERE language='Spanish' AND release_year<2000;\n",
    "\n",
    "SELECT * \n",
    "FROM films \n",
    "WHERE language='Spanish' AND release_year>2000;\n",
    "\n",
    "SELECT * \n",
    "FROM films \n",
    "WHERE language='Spanish' AND release_year>2000 AND release_year<2010;"
   ]
  },
  {
   "cell_type": "markdown",
   "metadata": {},
   "source": [
    "SELECT * \n",
    "FROM films \n",
    "WHERE (release_year>1989 AND release_year<2000);\n",
    "\n",
    "SELECT * \n",
    "FROM films \n",
    "WHERE (release_year>=1990 AND release_year<2000)\n",
    "AND (language='French' OR language ='Spanish');\n",
    "\n",
    "\n",
    "SELECT * \n",
    "FROM films \n",
    "WHERE (release_year>=1990 AND release_year<2000)\n",
    "AND (language='French' OR language ='Spanish')\n",
    "AND gross>2000000;\n",
    "\n",
    "\n",
    "\n"
   ]
  },
  {
   "cell_type": "markdown",
   "metadata": {},
   "source": [
    "SELECT title,release_year \n",
    "FROM films \n",
    "WHERE (release_year>=1990 AND release_year<=2000)\n",
    "AND (budget>100000000)\n",
    "AND (language='Spanish' OR language='French');\n"
   ]
  },
  {
   "cell_type": "markdown",
   "metadata": {},
   "source": [
    "SELECT title,release_year FROM films WHERE (release_year IN (1990,2000) AND duration > 120);\n",
    "SELECT title,language FROM films WHERE language IN ('English','Spanish','French');\n",
    "SELECT title,certification FROM films WHERE certification IN ('NC-17','R');\n",
    "\n"
   ]
  },
  {
   "cell_type": "markdown",
   "metadata": {},
   "source": [
    "SELECT name FROM people WHERE deathdate IS NULL;\n",
    "SELECT title FROM films WHERE budget IS NULL;\n",
    "SELECT COUNT(id) FROM films WHERE language IS NULL;"
   ]
  },
  {
   "cell_type": "markdown",
   "metadata": {},
   "source": [
    "SELECT name FROM people WHERE name LIKE 'B%';\n",
    "SELECT name FROM people WHERE name LIKE '_r%';\n",
    "SELECT name FROM people WHERE name NOT LIKE 'A%';"
   ]
  },
  {
   "cell_type": "markdown",
   "metadata": {},
   "source": [
    "SELECT SUM(duration) FROM films; \n",
    "SELECT AVG(duration) FROM films;\n",
    "SELECT MIN(duration) FROM films;\n",
    "SELECT MAX(duration) FROM films;\n"
   ]
  },
  {
   "cell_type": "markdown",
   "metadata": {},
   "source": [
    "SELECT SUM(gross) FROM films WHERE release_year>=2000;\n",
    "SELECT AVG(gross) FROM films WHERE title LIKE 'A%';\n",
    "SELECT MIN(gross) FROM films WHERE release_year=1994;\n",
    "SELECT MAX(gross) FROM films WHERE release_year>=2000 AND release_year<=2012;"
   ]
  },
  {
   "cell_type": "markdown",
   "metadata": {},
   "source": [
    "SELECT title,(gross-budget) AS net_profit FROM films;\n",
    "SELECT title, (duration/60.0) AS duration_hours FROM films;\n",
    "SELECT AVG(duration/60.0) AS avg_duration_hours FROM films;"
   ]
  },
  {
   "cell_type": "markdown",
   "metadata": {},
   "source": [
    "SELECT COUNT(deathdate) * 100.0 / COUNT(*) AS percentage_dead FROM people;\n",
    "SELECT MAX(release_year) - MIN(release_year) AS difference FROM films; \n",
    "SELECT MAX(release_year) - MIN(release_year) AS difference FROM films; \n",
    "SELECT (MAX(release_year) - MIN(release_year))/10 AS number_of_decades FROM films;"
   ]
  },
  {
   "cell_type": "markdown",
   "metadata": {},
   "source": [
    "SELECT name FROM people ORDER BY name;\n",
    "SELECT name FROM people ORDER BY birthdate;\n",
    "SELECT name,birthdate FROM people ORDER BY birthdate;"
   ]
  },
  {
   "cell_type": "markdown",
   "metadata": {},
   "source": [
    "SELECT title FROM films WHERE (release_year=2000 OR release_year=2012) ORDER BY release_year;\n",
    "\n",
    "SELECT * FROM films WHERE (release_year!=2015) ORDER BY duration;\n",
    "\n",
    "SELECT title,gross FROM films WHERE title LIKE 'M%' ORDER BY title;"
   ]
  },
  {
   "cell_type": "markdown",
   "metadata": {},
   "source": [
    "SELECT imdb_score,film_id FROM reviews ORDER BY imdb_score DESC;\n",
    "SELECT title FROM films ORDER BY title DESC;\n",
    "SELECT title,duration FROM films ORDER BY duration DESC;"
   ]
  },
  {
   "cell_type": "markdown",
   "metadata": {},
   "source": [
    "SELECT birthdate,name FROM people ORDER BY birthdate,name;\n",
    "SELECT release_year,duration,title FROM films ORDER BY release_year,duration;\n",
    "SELECT certification,release_year,title FROM films ORDER BY certification,release_year;\n",
    "SELECT name,birthdate FROM people ORDER BY name,birthdate;"
   ]
  },
  {
   "cell_type": "markdown",
   "metadata": {},
   "source": [
    "SELECT sex, count(*)\n",
    "FROM employees\n",
    "GROUP BY sex\n",
    "ORDER BY count DESC;"
   ]
  },
  {
   "cell_type": "markdown",
   "metadata": {},
   "source": [
    "SELECT release_year,COUNT(*) FROM films GROUP BY release_year;\n",
    "SELECT release_year,AVG(duration) FROM films GROUP BY release_year;\n",
    "SELECT release_year,MAX(budget) FROM films GROUP BY release_year;\n",
    "SELECT imdb_score,COUNT(id) FROM reviews GROUP BY imdb_score;"
   ]
  },
  {
   "cell_type": "markdown",
   "metadata": {},
   "source": [
    "SELECT release_year,MIN(gross) FROM films GROUP BY release_year;\n",
    "SELECT language,SUM(gross) FROM films GROUP BY language;\n",
    "SELECT country,SUM(budget) FROM films GROUP BY country;\n",
    "\n",
    "SELECT release_year,country,MAX(budget) FROM films GROUP BY release_year,country ORDER BY release_year,country;\n",
    "\n",
    "SELECT country,release_year,MIN(gross) FROM films GROUP BY release_year,country ORDER BY country,release_year;\n",
    "\n"
   ]
  },
  {
   "cell_type": "markdown",
   "metadata": {},
   "source": [
    "SELECT release_year\n",
    "FROM films\n",
    "GROUP BY release_year\n",
    "WHERE COUNT(title) > 10;\n",
    "\n",
    "`Above one gives error.`\n",
    "\n",
    "SELECT release_year\n",
    "FROM films\n",
    "GROUP BY release_year\n",
    "HAVING COUNT(title) > 10;\n",
    "\n",
    "We use Having for such cases."
   ]
  },
  {
   "cell_type": "markdown",
   "metadata": {},
   "source": [
    "SELECT release_year,budget,gross FROM films;\n",
    "SELECT release_year,budget,gross FROM films WHERE release_year>1990;\n",
    "SELECT release_year FROM films WHERE release_year>1990 GROUP BY release_year;\n",
    "\n",
    "SELECT release_year,AVG(budget) AS avg_budget,AVG(gross) AS avg_gross FROM films WHERE release_year>1990 GROUP BY release_year;\n",
    "\n",
    "SELECT release_year,AVG(budget) AS avg_budget,AVG(gross) AS avg_gross FROM films WHERE release_year>1990 GROUP BY release_year HAVING AVG(budget)>60000000;\n",
    "\n",
    "\n",
    "SELECT release_year,AVG(budget) AS avg_budget,AVG(gross) AS avg_gross FROM films WHERE release_year>1990 GROUP BY release_year HAVING AVG(budget)>60000000 ORDER BY AVG(gross) DESC;\n"
   ]
  },
  {
   "cell_type": "markdown",
   "metadata": {},
   "source": [
    "-- select country, average budget, average gross\n",
    "SELECT country,AVG(budget) AS avg_budget,AVG(gross) AS avg_gross \n",
    "-- from the films table\n",
    "FROM films\n",
    "-- group by country \n",
    "GROUP BY country\n",
    "-- where the country has a title count greater than 10\n",
    "HAVING COUNT(title)>10\n",
    "-- order by country\n",
    "ORDER BY country\n",
    "-- limit to only show 5 results\n",
    "LIMIT 5;"
   ]
  },
  {
   "cell_type": "code",
   "execution_count": null,
   "metadata": {},
   "outputs": [],
   "source": []
  },
  {
   "cell_type": "code",
   "execution_count": null,
   "metadata": {},
   "outputs": [],
   "source": []
  },
  {
   "cell_type": "code",
   "execution_count": null,
   "metadata": {},
   "outputs": [],
   "source": []
  },
  {
   "cell_type": "code",
   "execution_count": null,
   "metadata": {},
   "outputs": [],
   "source": []
  },
  {
   "cell_type": "code",
   "execution_count": null,
   "metadata": {},
   "outputs": [],
   "source": []
  },
  {
   "cell_type": "code",
   "execution_count": null,
   "metadata": {},
   "outputs": [],
   "source": []
  },
  {
   "cell_type": "code",
   "execution_count": null,
   "metadata": {},
   "outputs": [],
   "source": []
  }
 ],
 "metadata": {
  "kernelspec": {
   "display_name": "Python 3",
   "language": "python",
   "name": "python3"
  },
  "language_info": {
   "codemirror_mode": {
    "name": "ipython",
    "version": 3
   },
   "file_extension": ".py",
   "mimetype": "text/x-python",
   "name": "python",
   "nbconvert_exporter": "python",
   "pygments_lexer": "ipython3",
   "version": "3.6.6"
  }
 },
 "nbformat": 4,
 "nbformat_minor": 2
}
