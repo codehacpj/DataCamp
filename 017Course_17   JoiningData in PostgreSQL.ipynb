{
 "cells": [
  {
   "cell_type": "markdown",
   "metadata": {},
   "source": [
    "# Course 17 : Joining Data in PostgreSQL"
   ]
  },
  {
   "cell_type": "markdown",
   "metadata": {},
   "source": [
    "## Chapter 1 Introduction to joins"
   ]
  },
  {
   "cell_type": "code",
   "execution_count": null,
   "metadata": {},
   "outputs": [],
   "source": [
    "SELECT *\n",
    "FROM left_table\n",
    "INNER JOIN right_table\n",
    "ON left_table.id = right_table.id;"
   ]
  },
  {
   "cell_type": "code",
   "execution_count": null,
   "metadata": {},
   "outputs": [],
   "source": [
    "SELECT * FROM cities;"
   ]
  },
  {
   "cell_type": "code",
   "execution_count": null,
   "metadata": {},
   "outputs": [],
   "source": [
    "SELECT * \n",
    "FROM cities\n",
    "INNER JOIN countries \n",
    "ON cities.country_code = countries.code;\n"
   ]
  },
  {
   "cell_type": "code",
   "execution_count": null,
   "metadata": {},
   "outputs": [],
   "source": [
    "SELECT cities.name AS city, countries.name AS country, countries.region\n",
    "FROM cities \n",
    "INNER JOIN countries \n",
    "ON cities.country_code = countries.code;\n"
   ]
  },
  {
   "cell_type": "code",
   "execution_count": null,
   "metadata": {},
   "outputs": [],
   "source": [
    "SELECT c.code AS country_code, c.name, e.year, e.inflation_rate\n",
    "FROM countries AS c\n",
    "INNER JOIN economies AS e\n",
    "ON c.code = e.code;"
   ]
  },
  {
   "cell_type": "code",
   "execution_count": null,
   "metadata": {},
   "outputs": [],
   "source": [
    "SELECT c.code,c.name,c.region,p.year,p.fertility_rate \n",
    "FROM countries AS c\n",
    "INNER JOIN populations AS p\n",
    "ON c.code = p.country_code;"
   ]
  },
  {
   "cell_type": "code",
   "execution_count": null,
   "metadata": {},
   "outputs": [],
   "source": [
    "SELECT c.code,c.name,c.region,p.year,p.fertility_rate ,e.unemployment_rate,e.year\n",
    "FROM countries AS c\n",
    "INNER JOIN populations AS p\n",
    "ON c.code = p.country_code \n",
    "INNER JOIN economies AS e\n",
    "ON c.code = e.code;"
   ]
  },
  {
   "cell_type": "code",
   "execution_count": null,
   "metadata": {},
   "outputs": [],
   "source": [
    "SELECT c.code,c.name,c.region,p.year,p.fertility_rate ,e.unemployment_rate,e.year\n",
    "FROM countries AS c\n",
    "INNER JOIN populations AS p\n",
    "ON c.code = p.country_code \n",
    "INNER JOIN economies AS e\n",
    "ON c.code = e.code AND p.year = e.year;"
   ]
  },
  {
   "cell_type": "code",
   "execution_count": null,
   "metadata": {},
   "outputs": [],
   "source": [
    "SELECT c.name AS country, c.continent, l.name AS language, l.official\n",
    "FROM countries AS c\n",
    "INNER JOIN languages AS l\n",
    "using (code);"
   ]
  },
  {
   "cell_type": "code",
   "execution_count": null,
   "metadata": {},
   "outputs": [],
   "source": [
    "SELECT p1.country_code, \n",
    "       p1.size AS size2010,\n",
    "       p2.size AS size2015\n",
    "FROM populations AS p1\n",
    "INNER JOIN populations AS p2\n",
    "ON  p1.country_code = p2.country_code;"
   ]
  },
  {
   "cell_type": "code",
   "execution_count": null,
   "metadata": {},
   "outputs": [],
   "source": [
    "SELECT p1.country_code, \n",
    "       p1.size AS size2010,\n",
    "       p2.size AS size2015\n",
    "FROM populations AS p1\n",
    "INNER JOIN populations AS p2\n",
    "ON  p1.country_code = p2.country_code AND p1.year = p2.year - 5;"
   ]
  },
  {
   "cell_type": "code",
   "execution_count": null,
   "metadata": {},
   "outputs": [],
   "source": [
    "SELECT p1.country_code, \n",
    "       p1.size AS size2010,\n",
    "       p2.size AS size2015,(p2.size-p1.size)/p1.size * 100 AS growth_perc\n",
    "FROM populations AS p1\n",
    "INNER JOIN populations AS p2\n",
    "ON  p1.country_code = p2.country_code AND p1.year = p2.year - 5;"
   ]
  },
  {
   "cell_type": "code",
   "execution_count": null,
   "metadata": {},
   "outputs": [],
   "source": [
    "-- get name, continent, code, and surface area\n",
    "SELECT name, continent, code, surface_area,\n",
    "    -- first case\n",
    "    CASE WHEN surface_area > 2000000\n",
    "    -- first then\n",
    "            THEN 'large'\n",
    "    -- second case\n",
    "         WHEN surface_area > 350000  \n",
    "    -- second then\n",
    "            THEN 'medium'\n",
    "    -- else clause + end\n",
    "         ELSE 'small'\n",
    "    -- alias resulting field of CASE WHEN\n",
    "         END AS geosize_group\n",
    "-- from the countries table\n",
    "FROM countries;"
   ]
  },
  {
   "cell_type": "code",
   "execution_count": null,
   "metadata": {},
   "outputs": [],
   "source": [
    "SELECT country_code, size,\n",
    "  -- start CASE here with WHEN and THEN\n",
    "    CASE WHEN size>50000000\n",
    "        THEN 'large'\n",
    "\n",
    "  -- layout other CASE conditions here\n",
    "        WHEN size>1000000\n",
    "            THEN 'medium'\n",
    "  -- end CASE here with ELSE & END\n",
    "        ELSE 'small'\n",
    "  -- provide the alias of popsize_group to SELECT the new field\n",
    "    END AS popsize_group\n",
    "-- which table?\n",
    "FROM populations\n",
    "-- any conditions to check?\n",
    "WHERE populations.year = 2015;"
   ]
  },
  {
   "cell_type": "code",
   "execution_count": null,
   "metadata": {},
   "outputs": [],
   "source": [
    "SELECT country_code, size,\n",
    "  -- start CASE here with WHEN and THEN\n",
    "    CASE WHEN size>50000000\n",
    "        THEN 'large'\n",
    "\n",
    "  -- layout other CASE conditions here\n",
    "        WHEN size>1000000\n",
    "            THEN 'medium'\n",
    "  -- end CASE here with ELSE & END\n",
    "        ELSE 'small'\n",
    "  -- provide the alias of popsize_group to SELECT the new field\n",
    "    END AS popsize_group\n",
    "-- which table?\n",
    "INTO pop_plus\n",
    "FROM populations\n",
    "-- any conditions to check?\n",
    "WHERE populations.year = 2015;\n",
    "\n",
    "SELECT * FROM pop_plus;"
   ]
  },
  {
   "cell_type": "code",
   "execution_count": null,
   "metadata": {},
   "outputs": [],
   "source": [
    "SELECT country_code, size,\n",
    "  -- start CASE here with WHEN and THEN\n",
    "    CASE WHEN size>50000000\n",
    "        THEN 'large'\n",
    "\n",
    "  -- layout other CASE conditions here\n",
    "        WHEN size>1000000\n",
    "            THEN 'medium'\n",
    "  -- end CASE here with ELSE & END\n",
    "        ELSE 'small'\n",
    "  -- provide the alias of popsize_group to SELECT the new field\n",
    "    END AS popsize_group\n",
    "-- which table?\n",
    "INTO pop_plus\n",
    "FROM populations\n",
    "-- any conditions to check?\n",
    "WHERE populations.year = 2015;\n",
    "\n",
    "SELECT c.name,c.continent,c.surface_area,c.geosize_group,p.popsize_group\n",
    "FROM countries_plus AS c\n",
    "INNER JOIN pop_plus AS p\n",
    "ON c.code = p.country_code;"
   ]
  },
  {
   "cell_type": "markdown",
   "metadata": {},
   "source": [
    "## Chap 2 : Outer joins and cross joins "
   ]
  },
  {
   "cell_type": "code",
   "execution_count": null,
   "metadata": {},
   "outputs": [],
   "source": [
    "-- get the city name (and alias it), the country code,\n",
    "-- the country name (and alias it), the region,\n",
    "-- and the city proper population\n",
    "SELECT c1.name AS city, code, c2.name AS country,\n",
    "       region, city_proper_pop\n",
    "-- specify left table\n",
    "FROM cities AS c1\n",
    "-- specify right table and type of join\n",
    "INNER JOIN countries AS c2\n",
    "-- how should the tables be matched?\n",
    "ON c1.country_code = c2.code\n",
    "-- sort based on descending country code\n",
    "ORDER BY code DESC;"
   ]
  },
  {
   "cell_type": "code",
   "execution_count": null,
   "metadata": {},
   "outputs": [],
   "source": [
    "-- get the city name (and alias it), the country code,\n",
    "-- the country name (and alias it), the region,\n",
    "-- and the city proper population\n",
    "SELECT c1.name AS city, code, c2.name AS country,\n",
    "       region, city_proper_pop\n",
    "-- specify left table\n",
    "FROM cities AS c1\n",
    "-- specify right table and type of join\n",
    "LEFT JOIN countries AS c2\n",
    "-- how should the tables be matched?\n",
    "ON c1.country_code = c2.code\n",
    "-- sort based on descending country code\n",
    "ORDER BY code DESC;"
   ]
  },
  {
   "cell_type": "code",
   "execution_count": null,
   "metadata": {},
   "outputs": [],
   "source": [
    "/*\n",
    "select country name AS country, the country's local name,\n",
    "the language name AS language, and\n",
    "the percent of the language spoken in the country\n",
    "*/\n",
    "SELECT c.name AS country, local_name, l.name AS language, percent\n",
    "-- countries on the left (alias as c)\n",
    "FROM countries AS c\n",
    "-- inner join with languages (as l) on the right\n",
    "INNER JOIN languages AS l\n",
    "-- give fields to match on\n",
    "ON c.code = l.code\n",
    "-- sort by descending country name\n",
    "ORDER BY country DESC;"
   ]
  },
  {
   "cell_type": "code",
   "execution_count": null,
   "metadata": {},
   "outputs": [],
   "source": [
    "/*\n",
    "select country name AS country, the country's local name,\n",
    "the language name AS language, and\n",
    "the percent of the language spoken in the country\n",
    "*/\n",
    "SELECT c.name AS country, local_name, l.name AS language, percent\n",
    "-- countries on the left (alias as c)\n",
    "FROM countries AS c\n",
    "-- inner join with languages (as l) on the right\n",
    "LEFT JOIN languages AS l\n",
    "-- give fields to match on\n",
    "ON c.code = l.code\n",
    "-- sort by descending country name\n",
    "ORDER BY country DESC;"
   ]
  },
  {
   "cell_type": "code",
   "execution_count": null,
   "metadata": {},
   "outputs": [],
   "source": [
    "-- select name, region, and gdp_percapita\n",
    "SELECT name, region, gdp_percapita\n",
    "-- countries (alias c) on the left\n",
    "FROM countries AS c\n",
    "-- join with economies (alias e)\n",
    "LEFT JOIN economies AS e\n",
    "-- match on code fields\n",
    "ON c.code = e.code\n",
    "-- focus on 2010 entries\n",
    "WHERE e.year = 2010;"
   ]
  },
  {
   "cell_type": "code",
   "execution_count": null,
   "metadata": {},
   "outputs": [],
   "source": [
    "SELECT region, AVG(gdp_percapita) AS avg_gdp\n",
    "FROM countries AS c\n",
    "LEFT JOIN economies AS e\n",
    "ON c.code = e.code\n",
    "WHERE year = 2010\n",
    "GROUP BY region;"
   ]
  },
  {
   "cell_type": "code",
   "execution_count": null,
   "metadata": {},
   "outputs": [],
   "source": [
    "SELECT region, AVG(gdp_percapita) AS avg_gdp\n",
    "FROM countries AS c\n",
    "LEFT JOIN economies AS e\n",
    "ON c.code = e.code\n",
    "WHERE year = 2010\n",
    "GROUP BY region\n",
    "ORDER BY avg_gdp;"
   ]
  },
  {
   "cell_type": "code",
   "execution_count": null,
   "metadata": {},
   "outputs": [],
   "source": [
    "-- convert this code to use RIGHT JOINs instead of LEFT JOINs\n",
    "/*\n",
    "SELECT cities.name AS city, urbanarea_pop, countries.name AS country,\n",
    "       indep_year, languages.name AS language, percent\n",
    "FROM cities\n",
    "LEFT JOIN countries\n",
    "ON cities.country_code = countries.code\n",
    "LEFT JOIN languages\n",
    "ON countries.code = languages.code\n",
    "ORDER BY city, language;\n",
    "*/\n",
    "\n",
    "SELECT cities.name AS city, urbanarea_pop, countries.name AS country,\n",
    "       indep_year, languages.name AS language, percent\n",
    "FROM languages\n",
    "RIGHT JOIN countries\n",
    "ON languages.code = countries.code\n",
    "RIGHT JOIN cities\n",
    "ON countries.code = cities.country_code\n",
    "ORDER BY city, language;"
   ]
  },
  {
   "cell_type": "code",
   "execution_count": null,
   "metadata": {},
   "outputs": [],
   "source": [
    "SELECT name AS country, code, region, basic_unit\n",
    "FROM countries\n",
    "FULL JOIN currencies\n",
    "USING (code)\n",
    "WHERE region = 'North America' OR region IS NULL\n",
    "ORDER BY region;"
   ]
  },
  {
   "cell_type": "code",
   "execution_count": null,
   "metadata": {},
   "outputs": [],
   "source": [
    "SELECT name AS country, code, region, basic_unit\n",
    "FROM countries\n",
    "LEFT JOIN currencies\n",
    "USING (code)\n",
    "WHERE region = 'North America' OR region IS NULL\n",
    "ORDER BY region;"
   ]
  },
  {
   "cell_type": "code",
   "execution_count": null,
   "metadata": {},
   "outputs": [],
   "source": [
    "SELECT name AS country, code, region, basic_unit\n",
    "FROM countries\n",
    "INNER JOIN currencies\n",
    "USING (code)\n",
    "WHERE region = 'North America' OR region IS NULL\n",
    "ORDER BY region;"
   ]
  },
  {
   "cell_type": "code",
   "execution_count": null,
   "metadata": {},
   "outputs": [],
   "source": [
    "SELECT countries.name, code, languages.name AS language\n",
    "FROM languages\n",
    "FULL JOIN countries\n",
    "USING (code)\n",
    "WHERE countries.name LIKE 'V%' OR countries.name IS NULL\n",
    "ORDER BY countries.name;"
   ]
  },
  {
   "cell_type": "code",
   "execution_count": null,
   "metadata": {},
   "outputs": [],
   "source": [
    "SELECT countries.name, code, languages.name AS language\n",
    "FROM languages\n",
    "LEFT JOIN countries\n",
    "USING (code)\n",
    "WHERE countries.name LIKE 'V%' OR countries.name IS NULL\n",
    "ORDER BY countries.name;"
   ]
  },
  {
   "cell_type": "code",
   "execution_count": null,
   "metadata": {},
   "outputs": [],
   "source": [
    "SELECT countries.name, code, languages.name AS language\n",
    "FROM languages\n",
    "INNER JOIN countries\n",
    "USING (code)\n",
    "WHERE countries.name LIKE 'V%' OR countries.name IS NULL\n",
    "ORDER BY countries.name;"
   ]
  },
  {
   "cell_type": "code",
   "execution_count": null,
   "metadata": {},
   "outputs": [],
   "source": [
    "SELECT c.name AS country, region, l.name AS language,\n",
    "       cu.frac_unit, cu.basic_unit\n",
    "FROM countries AS c\n",
    "FULL JOIN languages AS l\n",
    "USING (code)\n",
    "FULL JOIN currencies AS cu\n",
    "USING (code)\n",
    "WHERE c.region LIKE 'M%esia';"
   ]
  },
  {
   "cell_type": "code",
   "execution_count": null,
   "metadata": {},
   "outputs": [],
   "source": [
    "SELECT cities.name AS city, languages.name as language\n",
    "FROM cities\n",
    "INNER JOIN languages\n",
    "ON cities.country_code = languages.code\n",
    "WHERE cities.name LIKE 'Hyder%';"
   ]
  },
  {
   "cell_type": "code",
   "execution_count": null,
   "metadata": {},
   "outputs": [],
   "source": [
    "SELECT cities.name AS city, languages.name as language\n",
    "FROM cities\n",
    "CROSS JOIN languages\n",
    "WHERE cities.name LIKE 'Hyder%';"
   ]
  },
  {
   "cell_type": "code",
   "execution_count": null,
   "metadata": {},
   "outputs": [],
   "source": [
    "SELECT countries.name AS country, region, populations.life_expectancy AS life_exp\n",
    "FROM countries\n",
    "LEFT JOIN populations\n",
    "ON countries.code = populations.country_code \n",
    "WHERE populations.year = 2010\n",
    "ORDER BY life_exp\n",
    "LIMIT 5;"
   ]
  },
  {
   "cell_type": "markdown",
   "metadata": {},
   "source": [
    "## Chapter 3 : Set theory clauses "
   ]
  },
  {
   "cell_type": "code",
   "execution_count": null,
   "metadata": {},
   "outputs": [],
   "source": [
    "-- pick specified columns from 2010 table\n",
    "SELECT *\n",
    "-- 2010 table will be on top\n",
    "FROM economies2010\n",
    "-- which set theory clause?\n",
    "UNION\n",
    "-- pick specified columns from 2015 table\n",
    "SELECT *\n",
    "-- 2015 table on the bottom\n",
    "FROM economies2015\n",
    "-- order accordingly\n",
    "ORDER BY code, year;"
   ]
  },
  {
   "cell_type": "code",
   "execution_count": null,
   "metadata": {},
   "outputs": [],
   "source": [
    "SELECT cities.country_code\n",
    "FROM cities\n",
    "UNION \n",
    "SELECT currencies.code\n",
    "FROM currencies\n",
    "ORDER BY country_code;"
   ]
  },
  {
   "cell_type": "code",
   "execution_count": null,
   "metadata": {},
   "outputs": [],
   "source": [
    "SELECT economies.code, year\n",
    "FROM economies\n",
    "UNION ALL\n",
    "SELECT populations.country_code, year\n",
    "FROM populations\n",
    "ORDER BY code, year;"
   ]
  },
  {
   "cell_type": "code",
   "execution_count": null,
   "metadata": {},
   "outputs": [],
   "source": [
    "SELECT economies.code, year\n",
    "FROM economies\n",
    "INTERSECT \n",
    "SELECT populations.country_code, year\n",
    "FROM populations\n",
    "ORDER BY code, year;"
   ]
  },
  {
   "cell_type": "code",
   "execution_count": null,
   "metadata": {},
   "outputs": [],
   "source": [
    "SELECT countries.name \n",
    "FROM countries\n",
    "INTERSECT \n",
    "SELECT cities.name\n",
    "FROM cities;\n"
   ]
  },
  {
   "cell_type": "code",
   "execution_count": null,
   "metadata": {},
   "outputs": [],
   "source": [
    "SELECT cities.name\n",
    "FROM cities\n",
    "EXCEPT \n",
    "SELECT countries.capital\n",
    "FROM countries\n",
    "ORDER BY name;"
   ]
  },
  {
   "cell_type": "code",
   "execution_count": null,
   "metadata": {},
   "outputs": [],
   "source": [
    "SELECT countries.capital \n",
    "FROM countries\n",
    "EXCEPT \n",
    "SELECT cities.name\n",
    "FROM cities\n",
    "ORDER BY capital;"
   ]
  },
  {
   "cell_type": "code",
   "execution_count": null,
   "metadata": {},
   "outputs": [],
   "source": [
    "SELECT countries.code\n",
    "FROM countries\n",
    "WHERE countries.region = 'Middle East';"
   ]
  },
  {
   "cell_type": "code",
   "execution_count": null,
   "metadata": {},
   "outputs": [],
   "source": [
    "/*SELECT countries.code\n",
    "FROM countries\n",
    "WHERE countries.region = 'Middle East';*/\n",
    "SELECT DISTINCT languages.name\n",
    "FROM languages\n",
    "ORDER BY name"
   ]
  },
  {
   "cell_type": "code",
   "execution_count": null,
   "metadata": {},
   "outputs": [],
   "source": [
    "SELECT DISTINCT languages.name\n",
    "FROM languages\n",
    "\n",
    "WHERE  code IN \n",
    "(SELECT countries.code\n",
    "FROM countries\n",
    "WHERE countries.region = 'Middle East')\n",
    "ORDER BY name;"
   ]
  },
  {
   "cell_type": "code",
   "execution_count": null,
   "metadata": {},
   "outputs": [],
   "source": [
    "SELECT COUNT(countries.code) \n",
    "FROM countries\n",
    "WHERE continent = 'Oceania';"
   ]
  },
  {
   "cell_type": "code",
   "execution_count": null,
   "metadata": {},
   "outputs": [],
   "source": [
    "SELECT c1.code,name,c2.basic_unit AS currency \n",
    "FROM countries AS c1\n",
    "INNER JOIN currencies AS c2\n",
    "ON c1.code = c2.code\n",
    "WHERE continent = 'Oceania';"
   ]
  },
  {
   "cell_type": "code",
   "execution_count": null,
   "metadata": {},
   "outputs": [],
   "source": [
    "SELECT code,name\n",
    "FROM countries\n",
    "WHERE continent = 'Oceania'\n",
    "AND code NOT IN (SELECT code FROM currencies);"
   ]
  },
  {
   "cell_type": "code",
   "execution_count": null,
   "metadata": {},
   "outputs": [],
   "source": [
    "-- select the city name\n",
    "SELECT name\n",
    "-- alias the table where city name resides\n",
    "FROM cities AS c1\n",
    "-- choose only records matching the result of multiple set theory clauses\n",
    "WHERE country_code IN\n",
    "(\n",
    "    -- select appropriate field from economies AS e\n",
    "    SELECT e.code\n",
    "    FROM economies AS e\n",
    "    -- get all additional (unique) values of the field from currencies AS c2  \n",
    "    UNION\n",
    "    SELECT c2.code\n",
    "    FROM currencies AS c2\n",
    "    -- exclude those appearing in populations AS p\n",
    "    EXCEPT\n",
    "    SELECT p.country_code\n",
    "    FROM populations AS p\n",
    ");"
   ]
  },
  {
   "cell_type": "markdown",
   "metadata": {},
   "source": [
    "## Chapter 4: Subqueries "
   ]
  },
  {
   "cell_type": "code",
   "execution_count": null,
   "metadata": {},
   "outputs": [],
   "source": [
    "SELECT AVG(life_expectancy) \n",
    "FROM populations\n",
    "WHERE populations.year = 2015;"
   ]
  },
  {
   "cell_type": "code",
   "execution_count": null,
   "metadata": {},
   "outputs": [],
   "source": [
    "SELECT *\n",
    "FROM populations\n",
    "WHERE life_expectancy > 1.15 * (SELECT AVG(life_expectancy) \n",
    "FROM populations\n",
    "WHERE populations.year = 2015)\n",
    "AND year = 2015;\n"
   ]
  },
  {
   "cell_type": "code",
   "execution_count": null,
   "metadata": {},
   "outputs": [],
   "source": [
    "-- select the appropriate fields\n",
    "SELECT name, country_code, urbanarea_pop\n",
    "-- from the cities table\n",
    "FROM cities\n",
    "-- with city name in the field of capital cities\n",
    "WHERE name IN\n",
    "  (SELECT capital\n",
    "   FROM countries)\n",
    "ORDER BY urbanarea_pop DESC;"
   ]
  },
  {
   "cell_type": "code",
   "execution_count": null,
   "metadata": {},
   "outputs": [],
   "source": [
    "/*SELECT countries.name AS country, COUNT(*) AS cities_num\n",
    "FROM cities\n",
    "INNER JOIN countries\n",
    "ON countries.code = cities.country_code\n",
    "GROUP BY country\n",
    "ORDER BY cities_num DESC, country\n",
    "LIMIT 9;*/\n",
    "\n",
    "\n",
    "SELECT countries.name AS country,\n",
    "  (SELECT COUNT(*)\n",
    "   FROM cities\n",
    "   WHERE countries.code = cities.country_code) AS cities_num\n",
    "FROM countries\n",
    "ORDER BY cities_num DESC, country\n",
    "LIMIT 9;"
   ]
  },
  {
   "cell_type": "code",
   "execution_count": null,
   "metadata": {},
   "outputs": [],
   "source": [
    "SELECT code, COUNT(*) AS lang_num\n",
    "FROM languages\n",
    "GROUP BY code;"
   ]
  },
  {
   "cell_type": "code",
   "execution_count": null,
   "metadata": {},
   "outputs": [],
   "source": [
    "SELECT local_name,subquery.lang_num\n",
    "FROM countries,(SELECT code, COUNT(*) AS lang_num\n",
    "FROM languages\n",
    "GROUP BY code) AS subquery\n",
    "WHERE countries.code = subquery.code\n",
    "ORDER BY lang_num;"
   ]
  },
  {
   "cell_type": "code",
   "execution_count": null,
   "metadata": {},
   "outputs": [],
   "source": [
    "SELECT countries.name,continent,economies.inflation_rate\n",
    "FROM countries\n",
    "INNER JOIN economies\n",
    "USING(code)\n",
    "WHERE year=2015;"
   ]
  },
  {
   "cell_type": "code",
   "execution_count": null,
   "metadata": {},
   "outputs": [],
   "source": [
    "SELECT MAX(inflation_rate) AS max_inf\n",
    "FROM (SELECT countries.name,continent,economies.inflation_rate\n",
    "FROM countries\n",
    "INNER JOIN economies\n",
    "USING(code)\n",
    "WHERE year=2015) AS subquery\n",
    "GROUP BY continent;"
   ]
  },
  {
   "cell_type": "code",
   "execution_count": null,
   "metadata": {},
   "outputs": [],
   "source": [
    "SELECT name,continent,inflation_rate\n",
    "FROM countries\n",
    "INNER JOIN economies\n",
    "ON countries.code = economies.code\n",
    "WHERE year = 2015\n",
    "AND inflation_rate IN (SELECT MAX(inflation_rate) AS max_inf \n",
    "    FROM(SELECT name, continent, inflation_rate\n",
    "         FROM countries\n",
    "         INNER JOIN economies\n",
    "         ON countries.code = economies.code\n",
    "         WHERE year = 2015) AS subquery\n",
    "         GROUP BY continent);\n"
   ]
  },
  {
   "cell_type": "code",
   "execution_count": null,
   "metadata": {},
   "outputs": [],
   "source": [
    "SELECT code,inflation_rate, unemployment_rate\n",
    "FROM economies\n",
    "WHERE year = 2015 AND code NOT IN\n",
    "  (SELECT code\n",
    "   FROM countries\n",
    "   WHERE (gov_form = 'Constitutional Monarchy' OR gov_form LIKE '%Republic'))\n",
    "ORDER BY inflation_rate;"
   ]
  },
  {
   "cell_type": "code",
   "execution_count": null,
   "metadata": {},
   "outputs": [],
   "source": [
    "SELECT DISTINCT c.name, e.total_investment, e.imports\n",
    "FROM countries AS c\n",
    "LEFT JOIN economies AS e\n",
    "ON (c.code = e.code AND c.code IN \n",
    "    (SELECT code \n",
    "    FROM languages\n",
    "    WHERE official = 'true'))\n",
    "WHERE year = 2015 AND region = 'Central America'\n",
    "ORDER BY c.name;"
   ]
  },
  {
   "cell_type": "code",
   "execution_count": null,
   "metadata": {},
   "outputs": [],
   "source": [
    "SELECT region, continent, AVG(fertility_rate) AS avg_fert_rate\n",
    "-- left table\n",
    "FROM countries\n",
    "-- right table\n",
    "INNER JOIN populations\n",
    "-- join conditions\n",
    "ON countries.code = populations.country_code\n",
    "-- specific records matching a condition\n",
    "WHERE year = 2015\n",
    "-- aggregated for each what?\n",
    "GROUP BY region, continent\n",
    "-- how should we sort?\n",
    "ORDER BY avg_fert_rate;"
   ]
  },
  {
   "cell_type": "code",
   "execution_count": null,
   "metadata": {},
   "outputs": [],
   "source": [
    "SELECT name, country_code, city_proper_pop, metroarea_pop,  \n",
    "      city_proper_pop / metroarea_pop * 100 AS city_perc\n",
    "FROM cities\n",
    "WHERE name IN\n",
    "  (SELECT capital\n",
    "   FROM countries\n",
    "   WHERE (continent = 'Europe'\n",
    "      OR continent LIKE '%America'))\n",
    "     AND metroarea_pop IS NOT NULL\n",
    "ORDER BY city_perc DESC\n",
    "LIMIT 10;"
   ]
  },
  {
   "cell_type": "code",
   "execution_count": null,
   "metadata": {},
   "outputs": [],
   "source": []
  },
  {
   "cell_type": "code",
   "execution_count": null,
   "metadata": {},
   "outputs": [],
   "source": []
  },
  {
   "cell_type": "code",
   "execution_count": null,
   "metadata": {},
   "outputs": [],
   "source": []
  },
  {
   "cell_type": "code",
   "execution_count": null,
   "metadata": {},
   "outputs": [],
   "source": []
  },
  {
   "cell_type": "code",
   "execution_count": null,
   "metadata": {},
   "outputs": [],
   "source": []
  },
  {
   "cell_type": "code",
   "execution_count": null,
   "metadata": {},
   "outputs": [],
   "source": []
  }
 ],
 "metadata": {
  "kernelspec": {
   "display_name": "Python 3",
   "language": "python",
   "name": "python3"
  },
  "language_info": {
   "codemirror_mode": {
    "name": "ipython",
    "version": 3
   },
   "file_extension": ".py",
   "mimetype": "text/x-python",
   "name": "python",
   "nbconvert_exporter": "python",
   "pygments_lexer": "ipython3",
   "version": "3.6.6"
  }
 },
 "nbformat": 4,
 "nbformat_minor": 2
}
